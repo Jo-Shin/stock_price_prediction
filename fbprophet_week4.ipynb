{
 "cells": [
  {
   "cell_type": "markdown",
   "id": "6c363c11",
   "metadata": {},
   "source": [
    "# 4주차"
   ]
  },
  {
   "cell_type": "code",
   "execution_count": 45,
   "id": "8bd730f5",
   "metadata": {
    "ExecuteTime": {
     "end_time": "2021-09-18T00:40:36.481620Z",
     "start_time": "2021-09-18T00:40:36.451449Z"
    }
   },
   "outputs": [],
   "source": [
    "import pandas as pd\n",
    "import os\n",
    "import FinanceDataReader as fdr\n",
    "\n",
    "import matplotlib.pyplot as plt\n",
    "plt.rcParams['font.family'] = 'Malgun Gothic'\n",
    "\n",
    "from sklearn.preprocessing import StandardScaler\n",
    "from sklearn.preprocessing import MinMaxScaler\n",
    "from fbprophet import Prophet\n",
    "from tqdm import tqdm\n",
    "\n",
    "from sklearn.model_selection import ParameterGrid\n",
    "from sklearn.metrics import mean_absolute_error\n",
    "import numpy as np\n",
    "import random\n",
    "\n",
    "from datetime import datetime as dt\n",
    "\n",
    "import warnings\n",
    "warnings.filterwarnings('ignore')"
   ]
  },
  {
   "cell_type": "code",
   "execution_count": 2,
   "id": "b2aa46ca",
   "metadata": {
    "ExecuteTime": {
     "end_time": "2021-09-17T22:21:51.386623Z",
     "start_time": "2021-09-17T22:21:51.296767Z"
    }
   },
   "outputs": [
    {
     "data": {
      "text/html": [
       "<div>\n",
       "<style scoped>\n",
       "    .dataframe tbody tr th:only-of-type {\n",
       "        vertical-align: middle;\n",
       "    }\n",
       "\n",
       "    .dataframe tbody tr th {\n",
       "        vertical-align: top;\n",
       "    }\n",
       "\n",
       "    .dataframe thead th {\n",
       "        text-align: right;\n",
       "    }\n",
       "</style>\n",
       "<table border=\"1\" class=\"dataframe\">\n",
       "  <thead>\n",
       "    <tr style=\"text-align: right;\">\n",
       "      <th></th>\n",
       "      <th>종목명</th>\n",
       "      <th>종목코드</th>\n",
       "      <th>상장시장</th>\n",
       "    </tr>\n",
       "  </thead>\n",
       "  <tbody>\n",
       "    <tr>\n",
       "      <th>0</th>\n",
       "      <td>삼성전자</td>\n",
       "      <td>005930</td>\n",
       "      <td>KOSPI</td>\n",
       "    </tr>\n",
       "    <tr>\n",
       "      <th>1</th>\n",
       "      <td>SK하이닉스</td>\n",
       "      <td>000660</td>\n",
       "      <td>KOSPI</td>\n",
       "    </tr>\n",
       "    <tr>\n",
       "      <th>2</th>\n",
       "      <td>NAVER</td>\n",
       "      <td>035420</td>\n",
       "      <td>KOSPI</td>\n",
       "    </tr>\n",
       "    <tr>\n",
       "      <th>3</th>\n",
       "      <td>카카오</td>\n",
       "      <td>035720</td>\n",
       "      <td>KOSPI</td>\n",
       "    </tr>\n",
       "    <tr>\n",
       "      <th>4</th>\n",
       "      <td>삼성바이오로직스</td>\n",
       "      <td>207940</td>\n",
       "      <td>KOSPI</td>\n",
       "    </tr>\n",
       "  </tbody>\n",
       "</table>\n",
       "</div>"
      ],
      "text/plain": [
       "        종목명    종목코드   상장시장\n",
       "0      삼성전자  005930  KOSPI\n",
       "1    SK하이닉스  000660  KOSPI\n",
       "2     NAVER  035420  KOSPI\n",
       "3       카카오  035720  KOSPI\n",
       "4  삼성바이오로직스  207940  KOSPI"
      ]
     },
     "execution_count": 2,
     "metadata": {},
     "output_type": "execute_result"
    }
   ],
   "source": [
    "path = './open_week4/'\n",
    "list_name = 'Stock_List.csv'\n",
    "stock_list = pd.read_csv(os.path.join(path,list_name))\n",
    "stock_list['종목코드'] = stock_list['종목코드'].apply(lambda x : str(x).zfill(6))\n",
    "stock_list.head() # 대형/중형주? "
   ]
  },
  {
   "cell_type": "code",
   "execution_count": 3,
   "id": "4ffbf55a",
   "metadata": {
    "ExecuteTime": {
     "end_time": "2021-09-17T22:21:55.162105Z",
     "start_time": "2021-09-17T22:21:55.089643Z"
    }
   },
   "outputs": [],
   "source": [
    "submission_raw = pd.read_csv(path+ 'sample_submission_week4.csv')\n",
    "target_day = pd.to_datetime(submission_raw.Day).tolist()"
   ]
  },
  {
   "cell_type": "code",
   "execution_count": 4,
   "id": "a289a854",
   "metadata": {
    "ExecuteTime": {
     "end_time": "2021-09-17T22:21:58.283405Z",
     "start_time": "2021-09-17T22:21:58.259571Z"
    }
   },
   "outputs": [
    {
     "data": {
      "text/plain": [
       "['2021-09-06',\n",
       " '2021-09-07',\n",
       " '2021-09-08',\n",
       " '2021-09-09',\n",
       " '2021-09-10',\n",
       " '2021-09-27',\n",
       " '2021-09-28',\n",
       " '2021-09-29',\n",
       " '2021-09-30',\n",
       " '2021-10-01']"
      ]
     },
     "execution_count": 4,
     "metadata": {},
     "output_type": "execute_result"
    }
   ],
   "source": [
    "submission_raw.Day.tolist()"
   ]
  },
  {
   "cell_type": "code",
   "execution_count": 14,
   "id": "dcf825d8",
   "metadata": {
    "ExecuteTime": {
     "end_time": "2021-09-17T00:45:37.650929Z",
     "start_time": "2021-09-17T00:35:09.847041Z"
    }
   },
   "outputs": [
    {
     "name": "stderr",
     "output_type": "stream",
     "text": [
      "100%|████████████████████████████████████████████████████████████████████████████████| 376/376 [10:27<00:00,  1.67s/it]\n"
     ]
    }
   ],
   "source": [
    "start_date = '20210101'\n",
    "end_date = '20210905'\n",
    "\n",
    "submission = submission_raw.copy()\n",
    "\n",
    "for code in tqdm(stock_list.종목코드):\n",
    "    data_raw = fdr.DataReader(code, start = start_date, end = end_date).Close\n",
    "\n",
    "    sc = StandardScaler()\n",
    "    data_scaled = pd.DataFrame({'ds':data_raw.index,\n",
    "                                'y':sc.fit_transform(data_raw.values.reshape(-1,1)).flatten()})\n",
    "    m = Prophet(yearly_seasonality=False,\n",
    "                weekly_seasonality=False,\n",
    "                daily_seasonality=False,\n",
    "               changepoint_prior_scale= 0.5,\n",
    "               changepoint_range=0.95)\n",
    "    m.fit(data_scaled)\n",
    "    future = m.make_future_dataframe(periods=28)\n",
    "    forecast = m.predict(future)\n",
    "\n",
    "    result = forecast[['ds','yhat']]\n",
    "    result.yhat = sc.inverse_transform(result.yhat.values.reshape(-1,1))\n",
    "\n",
    "    submission[code]=result[result.ds.map(lambda x:x in target_day)].yhat.values"
   ]
  },
  {
   "cell_type": "code",
   "execution_count": 15,
   "id": "6921477a",
   "metadata": {
    "ExecuteTime": {
     "end_time": "2021-09-17T00:45:45.081706Z",
     "start_time": "2021-09-17T00:45:45.021741Z"
    }
   },
   "outputs": [],
   "source": [
    "submission.to_csv('./submit/submission_{}.csv'.format(dt.now().strftime('%m%d_%H%M')), index=False)"
   ]
  },
  {
   "cell_type": "code",
   "execution_count": 8,
   "id": "c95b94b5",
   "metadata": {
    "ExecuteTime": {
     "end_time": "2021-09-17T22:36:52.219620Z",
     "start_time": "2021-09-17T22:36:52.211466Z"
    }
   },
   "outputs": [],
   "source": [
    "def NMAE(y_true, y_hat):\n",
    "    #y_true, y_hat = y_true.values, y_hat.values\n",
    "    return mean_absolute_error(y_true, y_hat) / np.mean(np.abs(y_true))"
   ]
  },
  {
   "cell_type": "code",
   "execution_count": 5,
   "id": "7f0b65d2",
   "metadata": {
    "ExecuteTime": {
     "end_time": "2021-09-17T01:29:23.904599Z",
     "start_time": "2021-09-17T01:28:33.091695Z"
    }
   },
   "outputs": [
    {
     "name": "stderr",
     "output_type": "stream",
     "text": [
      "100%|████████████████████████████████████████████████████████████████████████████████| 376/376 [00:50<00:00,  7.40it/s]\n"
     ]
    }
   ],
   "source": [
    "answer = submission_raw.copy().iloc[:5,:]\n",
    "\n",
    "start_date = '20210906'\n",
    "end_date = '20210910'\n",
    "\n",
    "for code in tqdm(stock_list.종목코드):\n",
    "    answer[code] = fdr.DataReader(code, start = start_date, end = end_date).Close.values"
   ]
  },
  {
   "cell_type": "code",
   "execution_count": 6,
   "id": "d8211d95",
   "metadata": {
    "ExecuteTime": {
     "end_time": "2021-09-17T01:29:42.306675Z",
     "start_time": "2021-09-17T01:29:42.289972Z"
    }
   },
   "outputs": [],
   "source": [
    "answer.to_csv('answer.csv', index=False)"
   ]
  },
  {
   "cell_type": "code",
   "execution_count": 49,
   "id": "c2384e8f",
   "metadata": {
    "ExecuteTime": {
     "end_time": "2021-09-17T01:16:39.399208Z",
     "start_time": "2021-09-17T01:16:38.812741Z"
    }
   },
   "outputs": [],
   "source": [
    "total_score = 0\n",
    "\n",
    "for code in answer.columns[1:]:\n",
    "    score = NMAE(answer[code], submission.iloc[:5,:][code])\n",
    "    total_score += score"
   ]
  },
  {
   "cell_type": "code",
   "execution_count": 51,
   "id": "8eee6160",
   "metadata": {
    "ExecuteTime": {
     "end_time": "2021-09-17T01:16:56.723752Z",
     "start_time": "2021-09-17T01:16:56.700387Z"
    }
   },
   "outputs": [
    {
     "data": {
      "text/plain": [
       "4.666481722638392"
      ]
     },
     "execution_count": 51,
     "metadata": {},
     "output_type": "execute_result"
    }
   ],
   "source": [
    "total_score / len(answer.columns[1:]) * 100"
   ]
  },
  {
   "cell_type": "code",
   "execution_count": 6,
   "id": "5eed39b9",
   "metadata": {
    "ExecuteTime": {
     "end_time": "2021-09-17T22:36:30.330799Z",
     "start_time": "2021-09-17T22:36:30.297213Z"
    }
   },
   "outputs": [],
   "source": [
    "answer = pd.read_csv('answer.csv')"
   ]
  },
  {
   "cell_type": "code",
   "execution_count": 11,
   "id": "bb80d65c",
   "metadata": {
    "ExecuteTime": {
     "end_time": "2021-09-17T23:00:36.899647Z",
     "start_time": "2021-09-17T22:40:40.863128Z"
    }
   },
   "outputs": [
    {
     "name": "stderr",
     "output_type": "stream",
     "text": [
      "100%|████████████████████████████████████████████████████████████████████████████████| 376/376 [19:56<00:00,  3.18s/it]\n"
     ]
    }
   ],
   "source": [
    "start_date = '20210101'\n",
    "end_date = '20210905'\n",
    "\n",
    "submission = submission_raw.copy()\n",
    "\n",
    "for code in tqdm(stock_list.종목코드):\n",
    "    data_raw = fdr.DataReader(code, start = start_date, end = end_date).Close\n",
    "\n",
    "    sc = StandardScaler()\n",
    "    data_scaled = pd.DataFrame({'ds':data_raw.index,\n",
    "                                'y':sc.fit_transform(data_raw.values.reshape(-1,1)).flatten()})\n",
    "    m = Prophet(seasonality_mode='multiplicative',\n",
    "                yearly_seasonality=False,\n",
    "                weekly_seasonality=False,\n",
    "                daily_seasonality=False,\n",
    "               changepoint_prior_scale= 0.5,\n",
    "               changepoint_range=0.95)\n",
    "    m.add_seasonality(name='seasonality_1',period=0.1,fourier_order=5)\n",
    "    m.add_seasonality(name='seasonality_2',period=0.3,fourier_order=5)\n",
    "    \n",
    "    m.fit(data_scaled)\n",
    "    future = m.make_future_dataframe(periods=28)\n",
    "    forecast = m.predict(future)\n",
    "\n",
    "    result = forecast[['ds','yhat']]\n",
    "    result.yhat = sc.inverse_transform(result.yhat.values.reshape(-1,1))\n",
    "\n",
    "    submission[code]=result[result.ds.map(lambda x:x in target_day)].yhat.values"
   ]
  },
  {
   "cell_type": "code",
   "execution_count": 12,
   "id": "437ab061",
   "metadata": {
    "ExecuteTime": {
     "end_time": "2021-09-17T23:00:40.198037Z",
     "start_time": "2021-09-17T23:00:39.293354Z"
    }
   },
   "outputs": [
    {
     "name": "stdout",
     "output_type": "stream",
     "text": [
      "5.429581211210798\n"
     ]
    }
   ],
   "source": [
    "total_score = 0\n",
    "\n",
    "for code in answer.columns[1:]:\n",
    "    score = NMAE(answer[code], submission.iloc[:5,:][code])\n",
    "    total_score += score\n",
    "    \n",
    "print(total_score / len(answer.columns[1:]) * 100)"
   ]
  },
  {
   "cell_type": "code",
   "execution_count": 14,
   "id": "fdb9d089",
   "metadata": {
    "ExecuteTime": {
     "end_time": "2021-09-17T23:06:40.299346Z",
     "start_time": "2021-09-17T23:06:40.275995Z"
    }
   },
   "outputs": [],
   "source": [
    "params_grid = {'fourier_order' : [5,10],\n",
    "               'period':[0.1,0.3,0.5,0.7,1]\n",
    "               }\n",
    "grid = ParameterGrid(params_grid)\n",
    "\n",
    "code_list = stock_list.종목코드.tolist()"
   ]
  },
  {
   "cell_type": "code",
   "execution_count": 17,
   "id": "68193a34",
   "metadata": {
    "ExecuteTime": {
     "end_time": "2021-09-17T23:16:37.128113Z",
     "start_time": "2021-09-17T23:11:09.520600Z"
    }
   },
   "outputs": [
    {
     "name": "stderr",
     "output_type": "stream",
     "text": [
      "\n",
      "100%|██████████████████████████████████████████████████████████████████████████████████| 10/10 [01:06<00:00,  6.68s/it]\u001b[A\n",
      "\n",
      "100%|██████████████████████████████████████████████████████████████████████████████████| 10/10 [00:30<00:00,  3.09s/it]\u001b[A\n",
      "\n",
      "100%|██████████████████████████████████████████████████████████████████████████████████| 10/10 [00:33<00:00,  3.32s/it]\u001b[A\n",
      "\n",
      "100%|██████████████████████████████████████████████████████████████████████████████████| 10/10 [00:37<00:00,  3.72s/it]\u001b[A\n",
      "\n",
      "100%|██████████████████████████████████████████████████████████████████████████████████| 10/10 [00:30<00:00,  3.01s/it]\u001b[A\n",
      "\n",
      "100%|██████████████████████████████████████████████████████████████████████████████████| 10/10 [00:33<00:00,  3.38s/it]\u001b[A\n",
      "\n",
      "100%|██████████████████████████████████████████████████████████████████████████████████| 10/10 [00:25<00:00,  2.53s/it]\u001b[A\n",
      "\n",
      "100%|██████████████████████████████████████████████████████████████████████████████████| 10/10 [00:29<00:00,  2.98s/it]\u001b[A\n",
      "\n",
      "100%|██████████████████████████████████████████████████████████████████████████████████| 10/10 [00:25<00:00,  2.53s/it]\u001b[A\n",
      "\n",
      "100%|██████████████████████████████████████████████████████████████████████████████████| 10/10 [00:13<00:00,  1.38s/it]\u001b[A\n",
      "\n",
      "100%|██████████████████████████████████████████████████████████████████████████████████| 10/10 [05:27<00:00, 32.76s/it]\u001b[A\n"
     ]
    }
   ],
   "source": [
    "model_parameters = pd.DataFrame(columns = ['code',\n",
    "                                           'NMAE',\n",
    "                                           'fourier_order',\n",
    "                                           'period'\n",
    "                                           ])\n",
    "\n",
    "random.seed(0)\n",
    "samples = random.sample(code_list, 10)\n",
    "\n",
    "start_date = '20210101'\n",
    "end_date = '20210905'\n",
    "\n",
    "for code in tqdm(samples, position=1):\n",
    "    data_raw = fdr.DataReader(code, start = start_date, end = end_date).Close\n",
    "\n",
    "    sc = StandardScaler()\n",
    "    data_scaled = pd.DataFrame({'ds':data_raw.index,\n",
    "                                'y':sc.fit_transform(data_raw.values.reshape(-1,1)).flatten()})\n",
    "    \n",
    "    train = data_scaled[data_scaled.ds <= pd.to_datetime('2021-08-06')] \n",
    "    val = data_scaled[data_scaled.ds > pd.to_datetime('2021-08-06')] \n",
    "\n",
    "    for p in tqdm(grid, position=0):\n",
    "        prophet = Prophet(seasonality_mode='multiplicative', \n",
    "                          yearly_seasonality=False,\n",
    "                          weekly_seasonality=False,\n",
    "                          daily_seasonality=False,\n",
    "                          changepoint_prior_scale=0.5,\n",
    "                          changepoint_range=0.95,\n",
    "                          )\n",
    "        prophet.add_seasonality(name='seasonality_1',\n",
    "                                period=p['period'],\n",
    "                                fourier_order=p['fourier_order'])\n",
    "        prophet.fit(train)\n",
    "\n",
    "        # 21일치를 예측합니다.\n",
    "        future_data = prophet.make_future_dataframe(periods=28)\n",
    "        forecast_data = prophet.predict(future_data)\n",
    "\n",
    "        pred_y = forecast_data[forecast_data.ds.map(lambda x: x in val.ds.tolist())].yhat\n",
    "        pred_y = sc.inverse_transform(pred_y.values.reshape(-1,1))\n",
    "\n",
    "        y_true = sc.inverse_transform(val.y.values.reshape(-1,1))\n",
    "\n",
    "        error =  NMAE(y_true, pred_y) * 100\n",
    "        model_parameters = model_parameters.append({'code':code,\n",
    "                                                    'NMAE':error,\n",
    "                                                    'fourier_order':p['fourier_order'],\n",
    "                                                    'period':p['period'],\n",
    "                                                    },\n",
    "                                                   ignore_index=True)"
   ]
  },
  {
   "cell_type": "code",
   "execution_count": 19,
   "id": "7db3464a",
   "metadata": {
    "ExecuteTime": {
     "end_time": "2021-09-17T23:17:55.812909Z",
     "start_time": "2021-09-17T23:17:55.796760Z"
    }
   },
   "outputs": [],
   "source": [
    "model_parameters.sort_values(by=['code','NMAE'], inplace=True)"
   ]
  },
  {
   "cell_type": "code",
   "execution_count": 21,
   "id": "ca34ba6c",
   "metadata": {
    "ExecuteTime": {
     "end_time": "2021-09-17T23:18:15.632036Z",
     "start_time": "2021-09-17T23:18:15.608031Z"
    }
   },
   "outputs": [],
   "source": [
    "param_pivot= pd.pivot_table(data=model_parameters,\n",
    "                   values='NMAE', \n",
    "                   index=['fourier_order','period'],\n",
    "                   columns=['code']).reset_index()\n",
    "\n",
    "param_pivot['mean'] = np.nanmean(param_pivot.iloc[:,5:].values, axis=1)"
   ]
  },
  {
   "cell_type": "code",
   "execution_count": 24,
   "id": "5a6fad66",
   "metadata": {
    "ExecuteTime": {
     "end_time": "2021-09-17T23:19:14.471073Z",
     "start_time": "2021-09-17T23:19:14.430819Z"
    }
   },
   "outputs": [
    {
     "data": {
      "text/html": [
       "<div>\n",
       "<style scoped>\n",
       "    .dataframe tbody tr th:only-of-type {\n",
       "        vertical-align: middle;\n",
       "    }\n",
       "\n",
       "    .dataframe tbody tr th {\n",
       "        vertical-align: top;\n",
       "    }\n",
       "\n",
       "    .dataframe thead th {\n",
       "        text-align: right;\n",
       "    }\n",
       "</style>\n",
       "<table border=\"1\" class=\"dataframe\">\n",
       "  <thead>\n",
       "    <tr style=\"text-align: right;\">\n",
       "      <th>code</th>\n",
       "      <th>fourier_order</th>\n",
       "      <th>period</th>\n",
       "      <th>004490</th>\n",
       "      <th>007390</th>\n",
       "      <th>016380</th>\n",
       "      <th>034730</th>\n",
       "      <th>039200</th>\n",
       "      <th>078340</th>\n",
       "      <th>078600</th>\n",
       "      <th>120110</th>\n",
       "      <th>218410</th>\n",
       "      <th>253450</th>\n",
       "      <th>mean</th>\n",
       "    </tr>\n",
       "  </thead>\n",
       "  <tbody>\n",
       "    <tr>\n",
       "      <th>2</th>\n",
       "      <td>5</td>\n",
       "      <td>0.5</td>\n",
       "      <td>12.040811</td>\n",
       "      <td>4.492638</td>\n",
       "      <td>12.552014</td>\n",
       "      <td>6.242918</td>\n",
       "      <td>8.590245</td>\n",
       "      <td>4.103621</td>\n",
       "      <td>6.412182</td>\n",
       "      <td>7.011385</td>\n",
       "      <td>7.107441</td>\n",
       "      <td>1.904520</td>\n",
       "      <td>5.910330</td>\n",
       "    </tr>\n",
       "    <tr>\n",
       "      <th>4</th>\n",
       "      <td>5</td>\n",
       "      <td>1.0</td>\n",
       "      <td>12.040811</td>\n",
       "      <td>4.487772</td>\n",
       "      <td>12.552014</td>\n",
       "      <td>6.242918</td>\n",
       "      <td>8.590245</td>\n",
       "      <td>4.103621</td>\n",
       "      <td>6.412182</td>\n",
       "      <td>7.011385</td>\n",
       "      <td>7.107441</td>\n",
       "      <td>1.904520</td>\n",
       "      <td>5.910330</td>\n",
       "    </tr>\n",
       "    <tr>\n",
       "      <th>3</th>\n",
       "      <td>5</td>\n",
       "      <td>0.7</td>\n",
       "      <td>2.491864</td>\n",
       "      <td>4.596832</td>\n",
       "      <td>12.085195</td>\n",
       "      <td>5.906444</td>\n",
       "      <td>9.220238</td>\n",
       "      <td>4.587453</td>\n",
       "      <td>6.299297</td>\n",
       "      <td>6.711129</td>\n",
       "      <td>6.023791</td>\n",
       "      <td>2.816631</td>\n",
       "      <td>5.937855</td>\n",
       "    </tr>\n",
       "    <tr>\n",
       "      <th>0</th>\n",
       "      <td>5</td>\n",
       "      <td>0.1</td>\n",
       "      <td>12.040811</td>\n",
       "      <td>4.474680</td>\n",
       "      <td>12.628520</td>\n",
       "      <td>6.289374</td>\n",
       "      <td>8.500014</td>\n",
       "      <td>4.412429</td>\n",
       "      <td>6.458130</td>\n",
       "      <td>7.157573</td>\n",
       "      <td>6.936990</td>\n",
       "      <td>1.927917</td>\n",
       "      <td>5.954632</td>\n",
       "    </tr>\n",
       "    <tr>\n",
       "      <th>5</th>\n",
       "      <td>10</td>\n",
       "      <td>0.1</td>\n",
       "      <td>11.796420</td>\n",
       "      <td>4.547084</td>\n",
       "      <td>12.521568</td>\n",
       "      <td>6.545878</td>\n",
       "      <td>8.561221</td>\n",
       "      <td>4.180338</td>\n",
       "      <td>6.461271</td>\n",
       "      <td>7.261533</td>\n",
       "      <td>6.814426</td>\n",
       "      <td>2.073380</td>\n",
       "      <td>5.985435</td>\n",
       "    </tr>\n",
       "    <tr>\n",
       "      <th>7</th>\n",
       "      <td>10</td>\n",
       "      <td>0.5</td>\n",
       "      <td>11.796444</td>\n",
       "      <td>4.588384</td>\n",
       "      <td>12.491462</td>\n",
       "      <td>6.511669</td>\n",
       "      <td>8.296429</td>\n",
       "      <td>4.175004</td>\n",
       "      <td>6.702599</td>\n",
       "      <td>7.150982</td>\n",
       "      <td>7.115886</td>\n",
       "      <td>2.030875</td>\n",
       "      <td>5.997635</td>\n",
       "    </tr>\n",
       "    <tr>\n",
       "      <th>9</th>\n",
       "      <td>10</td>\n",
       "      <td>1.0</td>\n",
       "      <td>11.796444</td>\n",
       "      <td>4.579490</td>\n",
       "      <td>12.447862</td>\n",
       "      <td>6.511669</td>\n",
       "      <td>8.536110</td>\n",
       "      <td>4.202773</td>\n",
       "      <td>6.597465</td>\n",
       "      <td>7.150982</td>\n",
       "      <td>7.115886</td>\n",
       "      <td>1.980614</td>\n",
       "      <td>6.013643</td>\n",
       "    </tr>\n",
       "    <tr>\n",
       "      <th>8</th>\n",
       "      <td>10</td>\n",
       "      <td>0.7</td>\n",
       "      <td>2.496568</td>\n",
       "      <td>4.575930</td>\n",
       "      <td>12.312048</td>\n",
       "      <td>6.241514</td>\n",
       "      <td>9.245928</td>\n",
       "      <td>4.454910</td>\n",
       "      <td>6.423334</td>\n",
       "      <td>6.826372</td>\n",
       "      <td>6.700782</td>\n",
       "      <td>2.280574</td>\n",
       "      <td>6.024774</td>\n",
       "    </tr>\n",
       "    <tr>\n",
       "      <th>1</th>\n",
       "      <td>5</td>\n",
       "      <td>0.3</td>\n",
       "      <td>2.640341</td>\n",
       "      <td>4.912184</td>\n",
       "      <td>12.177650</td>\n",
       "      <td>6.219673</td>\n",
       "      <td>9.477613</td>\n",
       "      <td>4.710420</td>\n",
       "      <td>6.094565</td>\n",
       "      <td>6.912395</td>\n",
       "      <td>6.849064</td>\n",
       "      <td>2.350117</td>\n",
       "      <td>6.087693</td>\n",
       "    </tr>\n",
       "    <tr>\n",
       "      <th>6</th>\n",
       "      <td>10</td>\n",
       "      <td>0.3</td>\n",
       "      <td>12.014657</td>\n",
       "      <td>4.572660</td>\n",
       "      <td>12.364704</td>\n",
       "      <td>6.370883</td>\n",
       "      <td>9.221280</td>\n",
       "      <td>4.557945</td>\n",
       "      <td>6.263548</td>\n",
       "      <td>7.011178</td>\n",
       "      <td>7.109872</td>\n",
       "      <td>2.231262</td>\n",
       "      <td>6.109424</td>\n",
       "    </tr>\n",
       "  </tbody>\n",
       "</table>\n",
       "</div>"
      ],
      "text/plain": [
       "code  fourier_order  period     004490    007390     016380    034730  \\\n",
       "2                 5     0.5  12.040811  4.492638  12.552014  6.242918   \n",
       "4                 5     1.0  12.040811  4.487772  12.552014  6.242918   \n",
       "3                 5     0.7   2.491864  4.596832  12.085195  5.906444   \n",
       "0                 5     0.1  12.040811  4.474680  12.628520  6.289374   \n",
       "5                10     0.1  11.796420  4.547084  12.521568  6.545878   \n",
       "7                10     0.5  11.796444  4.588384  12.491462  6.511669   \n",
       "9                10     1.0  11.796444  4.579490  12.447862  6.511669   \n",
       "8                10     0.7   2.496568  4.575930  12.312048  6.241514   \n",
       "1                 5     0.3   2.640341  4.912184  12.177650  6.219673   \n",
       "6                10     0.3  12.014657  4.572660  12.364704  6.370883   \n",
       "\n",
       "code    039200    078340    078600    120110    218410    253450      mean  \n",
       "2     8.590245  4.103621  6.412182  7.011385  7.107441  1.904520  5.910330  \n",
       "4     8.590245  4.103621  6.412182  7.011385  7.107441  1.904520  5.910330  \n",
       "3     9.220238  4.587453  6.299297  6.711129  6.023791  2.816631  5.937855  \n",
       "0     8.500014  4.412429  6.458130  7.157573  6.936990  1.927917  5.954632  \n",
       "5     8.561221  4.180338  6.461271  7.261533  6.814426  2.073380  5.985435  \n",
       "7     8.296429  4.175004  6.702599  7.150982  7.115886  2.030875  5.997635  \n",
       "9     8.536110  4.202773  6.597465  7.150982  7.115886  1.980614  6.013643  \n",
       "8     9.245928  4.454910  6.423334  6.826372  6.700782  2.280574  6.024774  \n",
       "1     9.477613  4.710420  6.094565  6.912395  6.849064  2.350117  6.087693  \n",
       "6     9.221280  4.557945  6.263548  7.011178  7.109872  2.231262  6.109424  "
      ]
     },
     "execution_count": 24,
     "metadata": {},
     "output_type": "execute_result"
    }
   ],
   "source": [
    "param_pivot.sort_values(by='mean')"
   ]
  },
  {
   "cell_type": "code",
   "execution_count": 25,
   "id": "054f1288",
   "metadata": {
    "ExecuteTime": {
     "end_time": "2021-09-17T23:40:22.485888Z",
     "start_time": "2021-09-17T23:20:21.229655Z"
    }
   },
   "outputs": [
    {
     "name": "stderr",
     "output_type": "stream",
     "text": [
      "100%|████████████████████████████████████████████████████████████████████████████████| 376/376 [20:01<00:00,  3.19s/it]\n"
     ]
    }
   ],
   "source": [
    "start_date = '20210101'\n",
    "end_date = '20210905'\n",
    "\n",
    "submission = submission_raw.copy()\n",
    "\n",
    "for code in tqdm(stock_list.종목코드):\n",
    "    data_raw = fdr.DataReader(code, start = start_date, end = end_date).Close\n",
    "\n",
    "    sc = StandardScaler()\n",
    "    data_scaled = pd.DataFrame({'ds':data_raw.index,\n",
    "                                'y':sc.fit_transform(data_raw.values.reshape(-1,1)).flatten()})\n",
    "    m = Prophet(seasonality_mode='multiplicative',\n",
    "                yearly_seasonality=False,\n",
    "                weekly_seasonality=False,\n",
    "                daily_seasonality=False,\n",
    "               changepoint_prior_scale= 0.5,\n",
    "               changepoint_range=0.95)\n",
    "    m.add_seasonality(name='seasonality_1',period=0.1,fourier_order=5)\n",
    "    #m.add_seasonality(name='seasonality_2',period=0.3,fourier_order=5)\n",
    "    \n",
    "    m.fit(data_scaled)\n",
    "    future = m.make_future_dataframe(periods=28)\n",
    "    forecast = m.predict(future)\n",
    "\n",
    "    result = forecast[['ds','yhat']]\n",
    "    result.yhat = sc.inverse_transform(result.yhat.values.reshape(-1,1))\n",
    "\n",
    "    submission[code]=result[result.ds.map(lambda x:x in target_day)].yhat.values"
   ]
  },
  {
   "cell_type": "code",
   "execution_count": 26,
   "id": "4b3feae1",
   "metadata": {
    "ExecuteTime": {
     "end_time": "2021-09-17T23:41:23.380940Z",
     "start_time": "2021-09-17T23:41:22.380114Z"
    }
   },
   "outputs": [
    {
     "name": "stdout",
     "output_type": "stream",
     "text": [
      "5.400702347582808\n"
     ]
    }
   ],
   "source": [
    "total_score = 0\n",
    "\n",
    "for code in answer.columns[1:]:\n",
    "    score = NMAE(answer[code], submission.iloc[:5,:][code])\n",
    "    total_score += score\n",
    "    \n",
    "print(total_score / len(answer.columns[1:]) * 100)"
   ]
  },
  {
   "cell_type": "markdown",
   "id": "c8ecc7ea",
   "metadata": {},
   "source": [
    "# without scaling"
   ]
  },
  {
   "cell_type": "code",
   "execution_count": 42,
   "id": "8de2ad03",
   "metadata": {
    "ExecuteTime": {
     "end_time": "2021-09-18T00:24:23.167975Z",
     "start_time": "2021-09-18T00:12:31.118034Z"
    }
   },
   "outputs": [
    {
     "name": "stderr",
     "output_type": "stream",
     "text": [
      "100%|████████████████████████████████████████████████████████████████████████████████| 376/376 [11:52<00:00,  1.89s/it]\n"
     ]
    }
   ],
   "source": [
    "start_date = '20210101'\n",
    "end_date = '20210905'\n",
    "\n",
    "submission = submission_raw.copy()\n",
    "\n",
    "for code in tqdm(stock_list.종목코드):\n",
    "    data_raw = fdr.DataReader(code, start = start_date, end = end_date)[['Close']].reset_index()\n",
    "    data_raw = data_raw.rename({'Date':'ds', 'Close':'y'}, axis=1)\n",
    "\n",
    "    m = Prophet(seasonality_mode='multiplicative',\n",
    "                yearly_seasonality=False,\n",
    "                weekly_seasonality=False,\n",
    "                daily_seasonality=False,\n",
    "               changepoint_prior_scale= 0.5,\n",
    "               changepoint_range=0.95)\n",
    "    #m.add_seasonality(name='seasonality_1',period=0.1,fourier_order=5)\n",
    "    #m.add_seasonality(name='seasonality_2',period=0.3,fourier_order=5)\n",
    "    \n",
    "    m.fit(data_raw)\n",
    "    future = m.make_future_dataframe(periods=28)\n",
    "    forecast = m.predict(future)\n",
    "\n",
    "    result = forecast[['ds','yhat']]\n",
    "\n",
    "    submission[code]=result[result.ds.map(lambda x:x in target_day)].yhat.values"
   ]
  },
  {
   "cell_type": "code",
   "execution_count": 43,
   "id": "2d39685a",
   "metadata": {
    "ExecuteTime": {
     "end_time": "2021-09-18T00:24:35.708062Z",
     "start_time": "2021-09-18T00:24:34.793987Z"
    }
   },
   "outputs": [
    {
     "name": "stdout",
     "output_type": "stream",
     "text": [
      "4.938432293432185\n"
     ]
    }
   ],
   "source": [
    "total_score = 0\n",
    "\n",
    "for code in answer.columns[1:]:\n",
    "    score = NMAE(answer[code], submission.iloc[:5,:][code])\n",
    "    total_score += score\n",
    "    \n",
    "print(total_score / len(answer.columns[1:]) * 100)"
   ]
  },
  {
   "cell_type": "markdown",
   "id": "56d39480",
   "metadata": {},
   "source": [
    "# MinMaxScaling"
   ]
  },
  {
   "cell_type": "code",
   "execution_count": 46,
   "id": "d7dc11f7",
   "metadata": {
    "ExecuteTime": {
     "end_time": "2021-09-18T00:50:45.844379Z",
     "start_time": "2021-09-18T00:40:57.193964Z"
    }
   },
   "outputs": [
    {
     "name": "stderr",
     "output_type": "stream",
     "text": [
      "100%|████████████████████████████████████████████████████████████████████████████████| 376/376 [09:48<00:00,  1.56s/it]\n"
     ]
    },
    {
     "name": "stdout",
     "output_type": "stream",
     "text": [
      "4.4981115531623335\n"
     ]
    }
   ],
   "source": [
    "start_date = '20210101'\n",
    "end_date = '20210905'\n",
    "\n",
    "submission = submission_raw.copy()\n",
    "\n",
    "for code in tqdm(stock_list.종목코드):\n",
    "    data_raw = fdr.DataReader(code, start = start_date, end = end_date).Close\n",
    "\n",
    "    sc = MinMaxScaler()\n",
    "    data_scaled = pd.DataFrame({'ds':data_raw.index,\n",
    "                                'y':sc.fit_transform(data_raw.values.reshape(-1,1)).flatten()})\n",
    "    m = Prophet(yearly_seasonality=False,\n",
    "                weekly_seasonality=False,\n",
    "                daily_seasonality=False,\n",
    "               changepoint_prior_scale= 0.5,\n",
    "               changepoint_range=0.95)\n",
    "    m.fit(data_scaled)\n",
    "    future = m.make_future_dataframe(periods=28)\n",
    "    forecast = m.predict(future)\n",
    "\n",
    "    result = forecast[['ds','yhat']]\n",
    "    result.yhat = sc.inverse_transform(result.yhat.values.reshape(-1,1))\n",
    "\n",
    "    submission[code]=result[result.ds.map(lambda x:x in target_day)].yhat.values\n",
    "    \n",
    "total_score = 0\n",
    "\n",
    "for code in answer.columns[1:]:\n",
    "    score = NMAE(answer[code], submission.iloc[:5,:][code])\n",
    "    total_score += score\n",
    "    \n",
    "print(total_score / len(answer.columns[1:]) * 100)"
   ]
  },
  {
   "cell_type": "code",
   "execution_count": 47,
   "id": "09689e76",
   "metadata": {
    "ExecuteTime": {
     "end_time": "2021-09-18T00:52:26.221518Z",
     "start_time": "2021-09-18T00:52:26.143414Z"
    }
   },
   "outputs": [],
   "source": [
    "submission.to_csv('./submit/submission_{}.csv'.format(dt.now().strftime('%m%d_%H%M')), index=False)"
   ]
  },
  {
   "cell_type": "markdown",
   "id": "f191abbe",
   "metadata": {},
   "source": [
    "# 휴일/주말 추가"
   ]
  },
  {
   "cell_type": "code",
   "execution_count": 57,
   "id": "61e12412",
   "metadata": {
    "ExecuteTime": {
     "end_time": "2021-09-18T01:28:57.326784Z",
     "start_time": "2021-09-18T01:28:57.294644Z"
    }
   },
   "outputs": [],
   "source": [
    "holiday = pd.DataFrame({\n",
    "    'holiday': 'holiday',\n",
    "    'ds': pd.concat([\n",
    "        pd.Series(pd.to_datetime('2021-01-01')),\n",
    "        pd.Series(pd.date_range('2021-02-11', '2021-02-13', freq='D')),\n",
    "        pd.Series(pd.to_datetime('2021-03-01')),\n",
    "        pd.Series(pd.to_datetime('2021-05-05')),\n",
    "        pd.Series(pd.to_datetime('2021-05-19')),\n",
    "        pd.Series(pd.to_datetime('2021-06-06')),\n",
    "        pd.Series(pd.to_datetime('2021-08-15')),\n",
    "        pd.Series(pd.date_range('2021-09-20', '2021-09-22', freq='D'))\n",
    "    ]),\n",
    "    'lower_window': -1,\n",
    "    'upper_window': 1})"
   ]
  },
  {
   "cell_type": "code",
   "execution_count": 58,
   "id": "39136376",
   "metadata": {
    "ExecuteTime": {
     "end_time": "2021-09-18T01:28:59.153317Z",
     "start_time": "2021-09-18T01:28:59.139074Z"
    }
   },
   "outputs": [
    {
     "data": {
      "text/html": [
       "<div>\n",
       "<style scoped>\n",
       "    .dataframe tbody tr th:only-of-type {\n",
       "        vertical-align: middle;\n",
       "    }\n",
       "\n",
       "    .dataframe tbody tr th {\n",
       "        vertical-align: top;\n",
       "    }\n",
       "\n",
       "    .dataframe thead th {\n",
       "        text-align: right;\n",
       "    }\n",
       "</style>\n",
       "<table border=\"1\" class=\"dataframe\">\n",
       "  <thead>\n",
       "    <tr style=\"text-align: right;\">\n",
       "      <th></th>\n",
       "      <th>holiday</th>\n",
       "      <th>ds</th>\n",
       "      <th>lower_window</th>\n",
       "      <th>upper_window</th>\n",
       "    </tr>\n",
       "  </thead>\n",
       "  <tbody>\n",
       "    <tr>\n",
       "      <th>0</th>\n",
       "      <td>holiday</td>\n",
       "      <td>2021-01-01</td>\n",
       "      <td>-1</td>\n",
       "      <td>1</td>\n",
       "    </tr>\n",
       "    <tr>\n",
       "      <th>0</th>\n",
       "      <td>holiday</td>\n",
       "      <td>2021-02-11</td>\n",
       "      <td>-1</td>\n",
       "      <td>1</td>\n",
       "    </tr>\n",
       "    <tr>\n",
       "      <th>1</th>\n",
       "      <td>holiday</td>\n",
       "      <td>2021-02-12</td>\n",
       "      <td>-1</td>\n",
       "      <td>1</td>\n",
       "    </tr>\n",
       "    <tr>\n",
       "      <th>2</th>\n",
       "      <td>holiday</td>\n",
       "      <td>2021-02-13</td>\n",
       "      <td>-1</td>\n",
       "      <td>1</td>\n",
       "    </tr>\n",
       "    <tr>\n",
       "      <th>0</th>\n",
       "      <td>holiday</td>\n",
       "      <td>2021-03-01</td>\n",
       "      <td>-1</td>\n",
       "      <td>1</td>\n",
       "    </tr>\n",
       "    <tr>\n",
       "      <th>0</th>\n",
       "      <td>holiday</td>\n",
       "      <td>2021-05-05</td>\n",
       "      <td>-1</td>\n",
       "      <td>1</td>\n",
       "    </tr>\n",
       "    <tr>\n",
       "      <th>0</th>\n",
       "      <td>holiday</td>\n",
       "      <td>2021-05-19</td>\n",
       "      <td>-1</td>\n",
       "      <td>1</td>\n",
       "    </tr>\n",
       "    <tr>\n",
       "      <th>0</th>\n",
       "      <td>holiday</td>\n",
       "      <td>2021-06-06</td>\n",
       "      <td>-1</td>\n",
       "      <td>1</td>\n",
       "    </tr>\n",
       "    <tr>\n",
       "      <th>0</th>\n",
       "      <td>holiday</td>\n",
       "      <td>2021-08-15</td>\n",
       "      <td>-1</td>\n",
       "      <td>1</td>\n",
       "    </tr>\n",
       "    <tr>\n",
       "      <th>0</th>\n",
       "      <td>holiday</td>\n",
       "      <td>2021-09-20</td>\n",
       "      <td>-1</td>\n",
       "      <td>1</td>\n",
       "    </tr>\n",
       "    <tr>\n",
       "      <th>1</th>\n",
       "      <td>holiday</td>\n",
       "      <td>2021-09-21</td>\n",
       "      <td>-1</td>\n",
       "      <td>1</td>\n",
       "    </tr>\n",
       "    <tr>\n",
       "      <th>2</th>\n",
       "      <td>holiday</td>\n",
       "      <td>2021-09-22</td>\n",
       "      <td>-1</td>\n",
       "      <td>1</td>\n",
       "    </tr>\n",
       "  </tbody>\n",
       "</table>\n",
       "</div>"
      ],
      "text/plain": [
       "   holiday         ds  lower_window  upper_window\n",
       "0  holiday 2021-01-01            -1             1\n",
       "0  holiday 2021-02-11            -1             1\n",
       "1  holiday 2021-02-12            -1             1\n",
       "2  holiday 2021-02-13            -1             1\n",
       "0  holiday 2021-03-01            -1             1\n",
       "0  holiday 2021-05-05            -1             1\n",
       "0  holiday 2021-05-19            -1             1\n",
       "0  holiday 2021-06-06            -1             1\n",
       "0  holiday 2021-08-15            -1             1\n",
       "0  holiday 2021-09-20            -1             1\n",
       "1  holiday 2021-09-21            -1             1\n",
       "2  holiday 2021-09-22            -1             1"
      ]
     },
     "execution_count": 58,
     "metadata": {},
     "output_type": "execute_result"
    }
   ],
   "source": [
    "holiday"
   ]
  },
  {
   "cell_type": "code",
   "execution_count": 59,
   "id": "3a50bc77",
   "metadata": {
    "ExecuteTime": {
     "end_time": "2021-09-18T01:39:33.546765Z",
     "start_time": "2021-09-18T01:29:00.956026Z"
    }
   },
   "outputs": [
    {
     "name": "stderr",
     "output_type": "stream",
     "text": [
      "100%|████████████████████████████████████████████████████████████████████████████████| 376/376 [10:31<00:00,  1.68s/it]\n"
     ]
    },
    {
     "name": "stdout",
     "output_type": "stream",
     "text": [
      "4.510359237787665\n"
     ]
    }
   ],
   "source": [
    "start_date = '20210101'\n",
    "end_date = '20210905'\n",
    "\n",
    "submission = submission_raw.copy()\n",
    "\n",
    "for code in tqdm(stock_list.종목코드):\n",
    "    data_raw = fdr.DataReader(code, start = start_date, end = end_date).Close\n",
    "\n",
    "    sc = MinMaxScaler()\n",
    "    data_scaled = pd.DataFrame({'ds':data_raw.index,\n",
    "                                'y':sc.fit_transform(data_raw.values.reshape(-1,1)).flatten()})\n",
    "    \n",
    "    m = Prophet(yearly_seasonality=False,\n",
    "                weekly_seasonality=False,\n",
    "                daily_seasonality=False,\n",
    "                changepoint_prior_scale= 0.5,\n",
    "                changepoint_range=0.95,\n",
    "                holidays=holiday,\n",
    "                holidays_prior_scale=5)\n",
    "    m.fit(data_scaled)\n",
    "    \n",
    "    future = m.make_future_dataframe(periods=28)\n",
    "    forecast = m.predict(future)\n",
    "\n",
    "    result = forecast[['ds','yhat']]\n",
    "    result.yhat = sc.inverse_transform(result.yhat.values.reshape(-1,1))\n",
    "\n",
    "    submission[code]=result[result.ds.map(lambda x:x in target_day)].yhat.values\n",
    "    \n",
    "total_score = 0\n",
    "\n",
    "for code in answer.columns[1:]:\n",
    "    score = NMAE(answer[code], submission.iloc[:5,:][code])\n",
    "    total_score += score\n",
    "    \n",
    "print(total_score / len(answer.columns[1:]) * 100)"
   ]
  }
 ],
 "metadata": {
  "kernelspec": {
   "display_name": "Python 3 (ipykernel)",
   "language": "python",
   "name": "python3"
  },
  "language_info": {
   "codemirror_mode": {
    "name": "ipython",
    "version": 3
   },
   "file_extension": ".py",
   "mimetype": "text/x-python",
   "name": "python",
   "nbconvert_exporter": "python",
   "pygments_lexer": "ipython3",
   "version": "3.7.11"
  },
  "toc": {
   "base_numbering": 1,
   "nav_menu": {},
   "number_sections": true,
   "sideBar": true,
   "skip_h1_title": false,
   "title_cell": "Table of Contents",
   "title_sidebar": "Contents",
   "toc_cell": false,
   "toc_position": {},
   "toc_section_display": true,
   "toc_window_display": false
  }
 },
 "nbformat": 4,
 "nbformat_minor": 5
}
