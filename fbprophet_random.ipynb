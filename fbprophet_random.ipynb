{
 "cells": [
  {
   "cell_type": "markdown",
   "id": "bed6ceb5",
   "metadata": {},
   "source": [
    "# Random search를 이용한 hyper parameter tuning"
   ]
  },
  {
   "cell_type": "markdown",
   "id": "5636f56e",
   "metadata": {},
   "source": [
    "## Setting"
   ]
  },
  {
   "cell_type": "code",
   "execution_count": 44,
   "id": "5076e59a",
   "metadata": {
    "ExecuteTime": {
     "end_time": "2021-09-12T08:54:51.960348Z",
     "start_time": "2021-09-12T08:54:51.944608Z"
    }
   },
   "outputs": [],
   "source": [
    "import pandas as pd\n",
    "import os\n",
    "import FinanceDataReader as fdr\n",
    "from datetime import datetime as dt\n",
    "import numpy as np\n",
    "import random\n",
    "from tqdm import tqdm\n",
    "\n",
    "from sklearn.preprocessing import StandardScaler\n",
    "from sklearn.model_selection import ParameterGrid\n",
    "from sklearn.model_selection import ParameterSampler\n",
    "from sklearn.metrics import mean_absolute_error\n",
    "\n",
    "from scipy.stats import uniform\n",
    "\n",
    "from fbprophet import Prophet\n",
    "\n",
    "import warnings\n",
    "warnings.filterwarnings('ignore')\n",
    "\n",
    "import matplotlib.pyplot as plt\n",
    "plt.rcParams['font.family'] = 'Malgun Gothic'"
   ]
  },
  {
   "cell_type": "code",
   "execution_count": 53,
   "id": "32b72218",
   "metadata": {
    "ExecuteTime": {
     "end_time": "2021-09-12T09:07:13.658233Z",
     "start_time": "2021-09-12T09:07:13.642164Z"
    }
   },
   "outputs": [
    {
     "name": "stdout",
     "output_type": "stream",
     "text": [
      "9.404253508111792\n",
      "10.077567561548191\n",
      "9.03398257167687\n",
      "10.04747981005045\n",
      "10.157557221534965\n",
      "9.735468071346379\n",
      "10.98797442341392\n",
      "10.345285945495673\n",
      "9.255791837212831\n",
      "10.639976927608778\n"
     ]
    }
   ],
   "source": [
    "param_grid = {'a':uniform(9,2)}\n",
    "param_list = list(ParameterSampler(param_grid, n_iter=10))\n",
    "for p in param_list:\n",
    "    print(p['a'])"
   ]
  },
  {
   "cell_type": "code",
   "execution_count": 56,
   "id": "087346a9",
   "metadata": {
    "ExecuteTime": {
     "end_time": "2021-09-12T09:12:52.500128Z",
     "start_time": "2021-09-12T09:12:52.476938Z"
    }
   },
   "outputs": [],
   "source": [
    "def draw_plot(company_lst, start_date='20200101', end_date='20201231'):\n",
    "    stock_lst = []\n",
    "    for company in company_lst:\n",
    "        sample_code = stock_list[stock_list.종목명 == company].종목코드.values[0]\n",
    "        data = fdr.DataReader(sample_code, start = start_date, end = end_date).Close\n",
    "        data = (data - data.mean()) / data.std()\n",
    "        plt.plot(data, label = company)\n",
    "        \n",
    "    plt.legend()\n",
    "    plt.show()  "
   ]
  },
  {
   "cell_type": "code",
   "execution_count": 49,
   "id": "3133b1d6",
   "metadata": {
    "ExecuteTime": {
     "end_time": "2021-09-12T08:57:12.809535Z",
     "start_time": "2021-09-12T08:57:12.793531Z"
    }
   },
   "outputs": [],
   "source": [
    "def NMAE(y_true, y_hat):\n",
    "    #y_true, y_hat = y_true.values, y_hat.values\n",
    "    return mean_absolute_error(y_true, y_hat) / np.mean(np.abs(y_true))"
   ]
  },
  {
   "cell_type": "code",
   "execution_count": 105,
   "id": "b954e057",
   "metadata": {
    "ExecuteTime": {
     "end_time": "2021-09-12T11:17:26.096246Z",
     "start_time": "2021-09-12T11:17:26.067240Z"
    }
   },
   "outputs": [],
   "source": [
    "def tuning(stock_list, num, param_sample):\n",
    "    count_df = stock_list.groupby('산업군').count().sort_values(by='종목명', ascending=False)['종목명'].reset_index()\n",
    "    industry_lst = count_df[count_df.종목명 >= num].산업군.tolist()\n",
    "    \n",
    "    model_parameters = pd.DataFrame(columns = ['code',\n",
    "                                               'industry',\n",
    "                                               'NMAE',\n",
    "                                               'changepoint_prior_scale',\n",
    "                                               'changepoint_range',\n",
    "                                               'fourier_order',\n",
    "                                               'period'\n",
    "                                               ])\n",
    "\n",
    "    for industry in tqdm(industry_lst, position=2):\n",
    "        code_list = stock_list[stock_list.산업군==industry].종목코드.tolist()\n",
    "\n",
    "        random.seed(0)\n",
    "        samples = random.sample(code_list, 5)\n",
    "\n",
    "        for code in tqdm(samples, position=1):\n",
    "            data_raw = fdr.DataReader(code, start = '20210101', end = '20210829').Close\n",
    "\n",
    "            sc = StandardScaler()\n",
    "            data_scaled = pd.DataFrame({'ds':data_raw.index,\n",
    "                                        'y':sc.fit_transform(data_raw.values.reshape(-1,1)).flatten()})\n",
    "\n",
    "            train = data_scaled[data_scaled.ds <= pd.to_datetime('2021-08-06')] \n",
    "            val = data_scaled[data_scaled.ds > pd.to_datetime('2021-08-06')] \n",
    "\n",
    "            for p in tqdm(param_sample, position=0):\n",
    "                prophet = Prophet(seasonality_mode='multiplicative', \n",
    "                                  yearly_seasonality=False,\n",
    "                                  weekly_seasonality=False,\n",
    "                                  daily_seasonality=False,\n",
    "                                  changepoint_prior_scale=p['changepoint_prior_scale'],\n",
    "                                  changepoint_range=p['changepoint_range'],\n",
    "                                  )\n",
    "                prophet.add_seasonality(name='seasonality_1',period=p['period'],fourier_order=p['fourier_order'])\n",
    "                prophet.fit(train)\n",
    "\n",
    "                # 21일치를 예측합니다.\n",
    "                future_data = prophet.make_future_dataframe(periods=21)\n",
    "                forecast_data = prophet.predict(future_data)\n",
    "\n",
    "                pred_y = forecast_data[forecast_data.ds.map(lambda x: x in val.ds.tolist())].yhat\n",
    "                pred_y = sc.inverse_transform(pred_y.values.reshape(-1,1))\n",
    "\n",
    "                y_true = sc.inverse_transform(val.y.values.reshape(-1,1))\n",
    "\n",
    "                error =  NMAE(y_true, pred_y) * 100\n",
    "                model_parameters = model_parameters.append({'code':code,\n",
    "                                                            'industry':industry,\n",
    "                                                            'NMAE':error,\n",
    "                                                            'changepoint_prior_scale':p['changepoint_prior_scale'],\n",
    "                                                            'changepoint_range':p['changepoint_range'],\n",
    "                                                            'fourier_order':p['fourier_order'],\n",
    "                                                            'period':p['period'],\n",
    "                                                            },ignore_index=True)\n",
    "\n",
    "    code_list = stock_list[stock_list.산업군.map(lambda x: x not in industry_lst)].종목코드.tolist()\n",
    "    random.seed(0)\n",
    "    samples = random.sample(code_list, 10)\n",
    "\n",
    "    for code in tqdm(samples, position=1):\n",
    "        data_raw = fdr.DataReader(code, start = '20210101', end = '20210829').Close\n",
    "\n",
    "        sc = StandardScaler()\n",
    "        data_scaled = pd.DataFrame({'ds':data_raw.index,\n",
    "                                    'y':sc.fit_transform(data_raw.values.reshape(-1,1)).flatten()})\n",
    "\n",
    "        train = data_scaled[data_scaled.ds <= pd.to_datetime('2021-08-06')] \n",
    "        val = data_scaled[data_scaled.ds > pd.to_datetime('2021-08-06')] \n",
    "\n",
    "        for p in tqdm(param_sample, position=0):\n",
    "            prophet = Prophet(seasonality_mode='multiplicative', \n",
    "                              yearly_seasonality=False,\n",
    "                              weekly_seasonality=False,\n",
    "                              daily_seasonality=False,\n",
    "                              changepoint_prior_scale=p['changepoint_prior_scale'],\n",
    "                              changepoint_range=p['changepoint_range'],\n",
    "                              )\n",
    "            prophet.add_seasonality(name='seasonality_1',period=p['period'],fourier_order=p['fourier_order'])\n",
    "            prophet.fit(train)\n",
    "\n",
    "            # 21일치를 예측합니다.\n",
    "            future_data = prophet.make_future_dataframe(periods=21)\n",
    "            forecast_data = prophet.predict(future_data)\n",
    "\n",
    "            pred_y = forecast_data[forecast_data.ds.map(lambda x: x in val.ds.tolist())].yhat\n",
    "            pred_y = sc.inverse_transform(pred_y.values.reshape(-1,1))\n",
    "\n",
    "            y_true = sc.inverse_transform(val.y.values.reshape(-1,1))\n",
    "\n",
    "            error =  NMAE(y_true, pred_y) * 100\n",
    "            model_parameters = model_parameters.append({'code':code,\n",
    "                                                        'industry':'기타',\n",
    "                                                        'NMAE':error,\n",
    "                                                        'changepoint_prior_scale':p['changepoint_prior_scale'],\n",
    "                                                        'changepoint_range':p['changepoint_range'],\n",
    "                                                        'fourier_order':p['fourier_order'],\n",
    "                                                        'period':p['period'],\n",
    "                                                        },ignore_index=True)\n",
    "            \n",
    "    param_pivot= pd.pivot_table(data=model_parameters,\n",
    "                                values='NMAE', \n",
    "                                index=['industry','changepoint_prior_scale','changepoint_range',\n",
    "                                       'fourier_order','period'],\n",
    "                                columns=['code']).reset_index()\n",
    "    param_pivot['mean'] = np.nanmean(param_pivot.iloc[:,5:].values, axis=1)\n",
    "    param_pivot = param_pivot.drop(param_pivot.columns[5:-1], axis=1).sort_values(by=['industry','mean'])\n",
    "    param_pivot.index = range(len(param_pivot))\n",
    "    param_pivot.columns.name = ''\n",
    "    \n",
    "    param_pivot['best']=0\n",
    "\n",
    "    for i in param_pivot.industry.unique():\n",
    "        min_index = param_pivot[param_pivot.industry==i].index.min()\n",
    "        param_pivot.loc[min_index,'best']=1\n",
    "\n",
    "    return model_parameters, param_pivot, industry_lst"
   ]
  },
  {
   "cell_type": "code",
   "execution_count": 51,
   "id": "d89e9355",
   "metadata": {
    "ExecuteTime": {
     "end_time": "2021-09-12T09:06:10.938873Z",
     "start_time": "2021-09-12T09:06:10.914873Z"
    }
   },
   "outputs": [],
   "source": [
    "def preprocess_for_merge(x, lst):\n",
    "    if x not in lst:\n",
    "        return '기타'\n",
    "    else:\n",
    "        return x\n",
    "\n",
    "def test(stock_list, param_pivot, industry_lst):\n",
    "    stock_list['industry']=stock_list.산업군\n",
    "    stock_list.industry = stock_list.industry.map(lambda x: preprocess_for_merge(x,industry_lst))\n",
    "    \n",
    "    best_param = param_pivot[param_pivot.best==1]\n",
    "    \n",
    "    info_train = pd.merge(stock_list.drop(['산업군'], axis=1),\n",
    "                          best_param.drop(['mean','best'], axis=1),\n",
    "                          how='left',\n",
    "                          on='industry')\n",
    "    submission = pd.read_csv('./open_week3/sample_submission_week3.csv')\n",
    "    target_day = pd.to_datetime(submission.Day).tolist()\n",
    "\n",
    "    for _, row in tqdm(info_train.iterrows()):\n",
    "        code= row['종목코드']\n",
    "        data_raw = fdr.DataReader(code, start = '20210101', end = '20210829').Close\n",
    "\n",
    "        sc = StandardScaler()\n",
    "        data_scaled = pd.DataFrame({'ds':data_raw.index,\n",
    "                                    'y':sc.fit_transform(data_raw.values.reshape(-1,1)).flatten()})\n",
    "\n",
    "        m = Prophet(seasonality_mode='multiplicative', \n",
    "                    yearly_seasonality=False,\n",
    "                    weekly_seasonality=False,\n",
    "                    daily_seasonality=False,\n",
    "                    changepoint_prior_scale=row['changepoint_prior_scale'],\n",
    "                    changepoint_range=row['changepoint_range']\n",
    "                   )\n",
    "        m.add_seasonality(name='seasonality_1',\n",
    "                          period=row['period'],\n",
    "                          fourier_order=row['fourier_order'])\n",
    "\n",
    "        m.fit(data_scaled)\n",
    "        future = m.make_future_dataframe(periods=7)\n",
    "        forecast = m.predict(future)\n",
    "\n",
    "        result = forecast[['ds','yhat']]\n",
    "        result.yhat = sc.inverse_transform(result.yhat.values.reshape(-1,1))\n",
    "\n",
    "        result_1 = result[result.ds.map(lambda x:x in target_day[:5])].yhat.values\n",
    "\n",
    "        data_raw = fdr.DataReader(code, start = '20210101', end = '20210912').Close\n",
    "\n",
    "        sc = StandardScaler()\n",
    "        data_scaled = pd.DataFrame({'ds':data_raw.index,\n",
    "                                    'y':sc.fit_transform(data_raw.values.reshape(-1,1)).flatten()})\n",
    "\n",
    "        m = Prophet(seasonality_mode='multiplicative', \n",
    "                    yearly_seasonality=False,\n",
    "                    weekly_seasonality=False,\n",
    "                    daily_seasonality=False,\n",
    "                    changepoint_prior_scale=row['changepoint_prior_scale'],\n",
    "                    changepoint_range=row['changepoint_range']\n",
    "                   )\n",
    "        m.add_seasonality(name='seasonality_1',\n",
    "                          period=row['period'],\n",
    "                          fourier_order=row['fourier_order'])\n",
    "\n",
    "        m.fit(data_scaled)\n",
    "        future = m.make_future_dataframe(periods=7)\n",
    "        forecast = m.predict(future)\n",
    "\n",
    "        result = forecast[['ds','yhat']]\n",
    "        result.yhat = sc.inverse_transform(result.yhat.values.reshape(-1,1))\n",
    "\n",
    "        result_2 = result[result.ds.map(lambda x:x in target_day[5:])].yhat.values\n",
    "\n",
    "        submission[code]=np.vstack([result_1.reshape(-1,1),result_2.reshape(-1,1)]).flatten()\n",
    "        \n",
    "    return submission"
   ]
  },
  {
   "cell_type": "markdown",
   "id": "48d08fca",
   "metadata": {},
   "source": [
    "## Read file"
   ]
  },
  {
   "cell_type": "code",
   "execution_count": 55,
   "id": "efb068a3",
   "metadata": {
    "ExecuteTime": {
     "end_time": "2021-09-12T09:08:26.797574Z",
     "start_time": "2021-09-12T09:08:26.758129Z"
    }
   },
   "outputs": [
    {
     "data": {
      "text/html": [
       "<div>\n",
       "<style scoped>\n",
       "    .dataframe tbody tr th:only-of-type {\n",
       "        vertical-align: middle;\n",
       "    }\n",
       "\n",
       "    .dataframe tbody tr th {\n",
       "        vertical-align: top;\n",
       "    }\n",
       "\n",
       "    .dataframe thead th {\n",
       "        text-align: right;\n",
       "    }\n",
       "</style>\n",
       "<table border=\"1\" class=\"dataframe\">\n",
       "  <thead>\n",
       "    <tr style=\"text-align: right;\">\n",
       "      <th></th>\n",
       "      <th>종목명</th>\n",
       "      <th>종목코드</th>\n",
       "      <th>상장시장</th>\n",
       "      <th>산업군</th>\n",
       "    </tr>\n",
       "  </thead>\n",
       "  <tbody>\n",
       "    <tr>\n",
       "      <th>0</th>\n",
       "      <td>삼성전자</td>\n",
       "      <td>005930</td>\n",
       "      <td>KOSPI</td>\n",
       "      <td>반도체와반도체장비</td>\n",
       "    </tr>\n",
       "    <tr>\n",
       "      <th>1</th>\n",
       "      <td>SK하이닉스</td>\n",
       "      <td>000660</td>\n",
       "      <td>KOSPI</td>\n",
       "      <td>반도체와반도체장비</td>\n",
       "    </tr>\n",
       "    <tr>\n",
       "      <th>2</th>\n",
       "      <td>NAVER</td>\n",
       "      <td>035420</td>\n",
       "      <td>KOSPI</td>\n",
       "      <td>양방향미디어와서비스</td>\n",
       "    </tr>\n",
       "    <tr>\n",
       "      <th>3</th>\n",
       "      <td>카카오</td>\n",
       "      <td>035720</td>\n",
       "      <td>KOSPI</td>\n",
       "      <td>양방향미디어와서비스</td>\n",
       "    </tr>\n",
       "    <tr>\n",
       "      <th>4</th>\n",
       "      <td>삼성바이오로직스</td>\n",
       "      <td>207940</td>\n",
       "      <td>KOSPI</td>\n",
       "      <td>제약</td>\n",
       "    </tr>\n",
       "    <tr>\n",
       "      <th>...</th>\n",
       "      <td>...</td>\n",
       "      <td>...</td>\n",
       "      <td>...</td>\n",
       "      <td>...</td>\n",
       "    </tr>\n",
       "    <tr>\n",
       "      <th>371</th>\n",
       "      <td>더네이쳐홀딩스</td>\n",
       "      <td>298540</td>\n",
       "      <td>KOSDAQ</td>\n",
       "      <td>섬유,의류,신발,호화품</td>\n",
       "    </tr>\n",
       "    <tr>\n",
       "      <th>372</th>\n",
       "      <td>코엔텍</td>\n",
       "      <td>029960</td>\n",
       "      <td>KOSDAQ</td>\n",
       "      <td>상업서비스와공급품</td>\n",
       "    </tr>\n",
       "    <tr>\n",
       "      <th>373</th>\n",
       "      <td>원익홀딩스</td>\n",
       "      <td>030530</td>\n",
       "      <td>KOSDAQ</td>\n",
       "      <td>반도체와반도체장비</td>\n",
       "    </tr>\n",
       "    <tr>\n",
       "      <th>374</th>\n",
       "      <td>웹케시</td>\n",
       "      <td>053580</td>\n",
       "      <td>KOSDAQ</td>\n",
       "      <td>소프트웨어</td>\n",
       "    </tr>\n",
       "    <tr>\n",
       "      <th>375</th>\n",
       "      <td>신흥에스이씨</td>\n",
       "      <td>243840</td>\n",
       "      <td>KOSDAQ</td>\n",
       "      <td>전기제품</td>\n",
       "    </tr>\n",
       "  </tbody>\n",
       "</table>\n",
       "<p>376 rows × 4 columns</p>\n",
       "</div>"
      ],
      "text/plain": [
       "          종목명    종목코드    상장시장           산업군\n",
       "0        삼성전자  005930   KOSPI     반도체와반도체장비\n",
       "1      SK하이닉스  000660   KOSPI     반도체와반도체장비\n",
       "2       NAVER  035420   KOSPI    양방향미디어와서비스\n",
       "3         카카오  035720   KOSPI    양방향미디어와서비스\n",
       "4    삼성바이오로직스  207940   KOSPI            제약\n",
       "..        ...     ...     ...           ...\n",
       "371   더네이쳐홀딩스  298540  KOSDAQ  섬유,의류,신발,호화품\n",
       "372       코엔텍  029960  KOSDAQ     상업서비스와공급품\n",
       "373     원익홀딩스  030530  KOSDAQ     반도체와반도체장비\n",
       "374       웹케시  053580  KOSDAQ         소프트웨어\n",
       "375    신흥에스이씨  243840  KOSDAQ          전기제품\n",
       "\n",
       "[376 rows x 4 columns]"
      ]
     },
     "execution_count": 55,
     "metadata": {},
     "output_type": "execute_result"
    }
   ],
   "source": [
    "path = './open_week3'\n",
    "list_name = 'Stock_List.csv'\n",
    "stock_list = pd.read_csv(os.path.join(path,list_name), encoding='CP949')\n",
    "stock_list['종목코드'] = stock_list['종목코드'].apply(lambda x : str(x).zfill(6))\n",
    "stock_list # 대형/중형주? "
   ]
  },
  {
   "cell_type": "code",
   "execution_count": 59,
   "id": "9d342b9a",
   "metadata": {
    "ExecuteTime": {
     "end_time": "2021-09-12T09:13:55.906174Z",
     "start_time": "2021-09-12T09:13:55.536457Z"
    }
   },
   "outputs": [
    {
     "data": {
      "image/png": "[encoded data removed]",
      "text/plain": [
       "<Figure size 432x288 with 1 Axes>"
      ]
     },
     "metadata": {
      "needs_background": "light"
     },
     "output_type": "display_data"
    }
   ],
   "source": [
    "draw_plot(['삼성전자'], '20210104','20210115')"
   ]
  },
  {
   "cell_type": "markdown",
   "id": "fd7a35e9",
   "metadata": {},
   "source": [
    "## Tuning With Random Search"
   ]
  },
  {
   "cell_type": "code",
   "execution_count": 102,
   "id": "e35b7e89",
   "metadata": {
    "ExecuteTime": {
     "end_time": "2021-09-12T11:16:49.268640Z",
     "start_time": "2021-09-12T11:16:49.252644Z"
    }
   },
   "outputs": [],
   "source": [
    "params_grid = {'changepoint_prior_scale':uniform(0.03, 0.09),\n",
    "               'changepoint_range' : uniform(0.5,0.4),\n",
    "               'fourier_order' : range(5,11),\n",
    "               'period':uniform(0.1,0.9)\n",
    "               }\n",
    "params_sample = ParameterSampler(params_grid, n_iter=60, random_state=0)\n",
    "rounded_params = [dict((k, round(v, 6)) for (k, v) in d.items()) for d in params_sample]"
   ]
  },
  {
   "cell_type": "code",
   "execution_count": 103,
   "id": "487a8988",
   "metadata": {
    "ExecuteTime": {
     "end_time": "2021-09-12T11:16:50.024077Z",
     "start_time": "2021-09-12T11:16:50.012076Z"
    }
   },
   "outputs": [
    {
     "data": {
      "text/plain": [
       "60"
      ]
     },
     "execution_count": 103,
     "metadata": {},
     "output_type": "execute_result"
    }
   ],
   "source": [
    "len(rounded_params)"
   ]
  },
  {
   "cell_type": "code",
   "execution_count": 106,
   "id": "b53ecd4d",
   "metadata": {
    "ExecuteTime": {
     "end_time": "2021-09-12T12:06:41.496898Z",
     "start_time": "2021-09-12T11:17:34.505062Z"
    }
   },
   "outputs": [
    {
     "name": "stderr",
     "output_type": "stream",
     "text": [
      "\n",
      "\n",
      "  0%|                                                                                            | 0/7 [00:00<?, ?it/s]\u001b[A\u001b[A\n",
      "100%|██████████████████████████████████████████████████████████████████████████████████| 60/60 [01:05<00:00,  1.10s/it]\u001b[A\n",
      "\n",
      "100%|██████████████████████████████████████████████████████████████████████████████████| 60/60 [01:08<00:00,  1.14s/it]\u001b[A\n",
      "\n",
      "100%|██████████████████████████████████████████████████████████████████████████████████| 60/60 [01:05<00:00,  1.09s/it]\u001b[A\n",
      "\n",
      "100%|██████████████████████████████████████████████████████████████████████████████████| 60/60 [01:04<00:00,  1.08s/it]\u001b[A\n",
      "\n",
      "100%|██████████████████████████████████████████████████████████████████████████████████| 60/60 [01:04<00:00,  1.07s/it]\u001b[A\n",
      "\n",
      "100%|████████████████████████████████████████████████████████████████████████████████████| 5/5 [05:29<00:00, 65.86s/it]\u001b[A\n",
      "\n",
      "\n",
      " 14%|███████████▊                                                                       | 1/7 [05:29<32:55, 329.30s/it]\u001b[A\u001b[A\n",
      "100%|██████████████████████████████████████████████████████████████████████████████████| 60/60 [01:04<00:00,  1.08s/it]\u001b[A\n",
      "\n",
      "100%|██████████████████████████████████████████████████████████████████████████████████| 60/60 [01:13<00:00,  1.22s/it]\u001b[A\n",
      "\n",
      "100%|██████████████████████████████████████████████████████████████████████████████████| 60/60 [01:06<00:00,  1.11s/it]\u001b[A\n",
      "\n",
      "100%|██████████████████████████████████████████████████████████████████████████████████| 60/60 [01:03<00:00,  1.07s/it]\u001b[A\n",
      "\n",
      "100%|██████████████████████████████████████████████████████████████████████████████████| 60/60 [01:06<00:00,  1.11s/it]\u001b[A\n",
      "\n",
      "100%|████████████████████████████████████████████████████████████████████████████████████| 5/5 [05:35<00:00, 67.05s/it]\u001b[A\n",
      "\n",
      "\n",
      " 29%|███████████████████████▋                                                           | 2/7 [11:04<27:43, 332.80s/it]\u001b[A\u001b[A\n",
      "100%|██████████████████████████████████████████████████████████████████████████████████| 60/60 [01:05<00:00,  1.09s/it]\u001b[A\n",
      "\n",
      "100%|██████████████████████████████████████████████████████████████████████████████████| 60/60 [01:06<00:00,  1.11s/it]\u001b[A\n",
      "\n",
      "100%|██████████████████████████████████████████████████████████████████████████████████| 60/60 [01:03<00:00,  1.06s/it]\u001b[A\n",
      "\n",
      "100%|██████████████████████████████████████████████████████████████████████████████████| 60/60 [01:04<00:00,  1.08s/it]\u001b[A\n",
      "\n",
      "100%|██████████████████████████████████████████████████████████████████████████████████| 60/60 [01:04<00:00,  1.08s/it]\u001b[A\n",
      "\n",
      "100%|████████████████████████████████████████████████████████████████████████████████████| 5/5 [05:25<00:00, 65.12s/it]\u001b[A\n",
      "\n",
      "\n",
      " 43%|███████████████████████████████████▌                                               | 3/7 [16:30<21:58, 329.52s/it]\u001b[A\u001b[A\n",
      "100%|██████████████████████████████████████████████████████████████████████████████████| 60/60 [01:06<00:00,  1.12s/it]\u001b[A\n",
      "\n",
      "100%|██████████████████████████████████████████████████████████████████████████████████| 60/60 [01:04<00:00,  1.07s/it]\u001b[A\n",
      "\n",
      "100%|██████████████████████████████████████████████████████████████████████████████████| 60/60 [01:03<00:00,  1.06s/it]\u001b[A\n",
      "\n",
      "100%|██████████████████████████████████████████████████████████████████████████████████| 60/60 [01:05<00:00,  1.09s/it]\u001b[A\n",
      "\n",
      "100%|██████████████████████████████████████████████████████████████████████████████████| 60/60 [01:05<00:00,  1.10s/it]\u001b[A\n",
      "\n",
      "100%|████████████████████████████████████████████████████████████████████████████████████| 5/5 [05:26<00:00, 65.34s/it]\u001b[A\n",
      "\n",
      "\n",
      " 57%|███████████████████████████████████████████████▍                                   | 4/7 [21:56<16:25, 328.42s/it]\u001b[A\u001b[A\n",
      "100%|██████████████████████████████████████████████████████████████████████████████████| 60/60 [01:05<00:00,  1.09s/it]\u001b[A\n",
      "\n",
      "100%|██████████████████████████████████████████████████████████████████████████████████| 60/60 [01:05<00:00,  1.10s/it]\u001b[A\n",
      "\n",
      "100%|██████████████████████████████████████████████████████████████████████████████████| 60/60 [01:05<00:00,  1.09s/it]\u001b[A\n",
      "\n",
      "100%|██████████████████████████████████████████████████████████████████████████████████| 60/60 [01:03<00:00,  1.06s/it]\u001b[A\n",
      "\n",
      "100%|██████████████████████████████████████████████████████████████████████████████████| 60/60 [01:03<00:00,  1.06s/it]\u001b[A\n",
      "\n",
      "100%|████████████████████████████████████████████████████████████████████████████████████| 5/5 [05:24<00:00, 64.88s/it]\u001b[A\n",
      "\n",
      "\n",
      " 71%|███████████████████████████████████████████████████████████▎                       | 5/7 [27:21<10:53, 326.97s/it]\u001b[A\u001b[A\n",
      "100%|██████████████████████████████████████████████████████████████████████████████████| 60/60 [01:03<00:00,  1.06s/it]\u001b[A\n",
      "\n",
      "100%|██████████████████████████████████████████████████████████████████████████████████| 60/60 [01:05<00:00,  1.09s/it]\u001b[A\n",
      "\n",
      "100%|██████████████████████████████████████████████████████████████████████████████████| 60/60 [01:04<00:00,  1.07s/it]\u001b[A\n",
      "\n",
      "100%|██████████████████████████████████████████████████████████████████████████████████| 60/60 [01:03<00:00,  1.05s/it]\u001b[A\n",
      "\n",
      "100%|██████████████████████████████████████████████████████████████████████████████████| 60/60 [01:05<00:00,  1.08s/it]\u001b[A\n",
      "\n",
      "100%|████████████████████████████████████████████████████████████████████████████████████| 5/5 [05:22<00:00, 64.51s/it]\u001b[A\n",
      "\n",
      "\n",
      " 86%|███████████████████████████████████████████████████████████████████████▏           | 6/7 [32:43<05:25, 325.47s/it]\u001b[A\u001b[A\n",
      "100%|██████████████████████████████████████████████████████████████████████████████████| 60/60 [01:04<00:00,  1.08s/it]\u001b[A\n",
      "\n",
      "100%|██████████████████████████████████████████████████████████████████████████████████| 60/60 [01:07<00:00,  1.13s/it]\u001b[A\n",
      "\n",
      "100%|██████████████████████████████████████████████████████████████████████████████████| 60/60 [01:03<00:00,  1.06s/it]\u001b[A\n",
      "\n",
      "100%|██████████████████████████████████████████████████████████████████████████████████| 60/60 [01:03<00:00,  1.07s/it]\u001b[A\n",
      "\n",
      "100%|██████████████████████████████████████████████████████████████████████████████████| 60/60 [01:06<00:00,  1.12s/it]\u001b[A\n",
      "\n",
      "100%|████████████████████████████████████████████████████████████████████████████████████| 5/5 [05:27<00:00, 65.59s/it]\u001b[A\n",
      "\n",
      "\n",
      "100%|███████████████████████████████████████████████████████████████████████████████████| 7/7 [38:11<00:00, 327.41s/it]\u001b[A\u001b[A\n",
      "\n",
      "100%|██████████████████████████████████████████████████████████████████████████████████| 60/60 [01:05<00:00,  1.10s/it]\u001b[A\n",
      "\n",
      "100%|██████████████████████████████████████████████████████████████████████████████████| 60/60 [01:06<00:00,  1.11s/it]\u001b[A\n",
      "\n",
      "100%|██████████████████████████████████████████████████████████████████████████████████| 60/60 [01:04<00:00,  1.08s/it]\u001b[A\n",
      "\n",
      "100%|██████████████████████████████████████████████████████████████████████████████████| 60/60 [01:05<00:00,  1.10s/it]\u001b[A\n",
      "\n",
      "100%|██████████████████████████████████████████████████████████████████████████████████| 60/60 [01:05<00:00,  1.10s/it]\u001b[A\n",
      "\n",
      "100%|██████████████████████████████████████████████████████████████████████████████████| 60/60 [01:04<00:00,  1.08s/it]\u001b[A\n",
      "\n",
      "100%|██████████████████████████████████████████████████████████████████████████████████| 60/60 [01:04<00:00,  1.07s/it]\u001b[A\n",
      "\n",
      "100%|██████████████████████████████████████████████████████████████████████████████████| 60/60 [01:03<00:00,  1.06s/it]\u001b[A\n",
      "\n",
      "100%|██████████████████████████████████████████████████████████████████████████████████| 60/60 [01:05<00:00,  1.10s/it]\u001b[A\n",
      "\n",
      "100%|██████████████████████████████████████████████████████████████████████████████████| 60/60 [01:06<00:00,  1.12s/it]\u001b[A\n",
      "\n",
      "100%|██████████████████████████████████████████████████████████████████████████████████| 10/10 [10:55<00:00, 65.51s/it]\u001b[A\n"
     ]
    }
   ],
   "source": [
    "model_parameters, param_pivot, industry_lst = tuning(stock_list, 10, rounded_params)"
   ]
  },
  {
   "cell_type": "code",
   "execution_count": 111,
   "id": "c8e5f296",
   "metadata": {
    "ExecuteTime": {
     "end_time": "2021-09-12T12:10:57.976639Z",
     "start_time": "2021-09-12T12:10:57.956623Z"
    }
   },
   "outputs": [
    {
     "data": {
      "text/html": [
       "<div>\n",
       "<style scoped>\n",
       "    .dataframe tbody tr th:only-of-type {\n",
       "        vertical-align: middle;\n",
       "    }\n",
       "\n",
       "    .dataframe tbody tr th {\n",
       "        vertical-align: top;\n",
       "    }\n",
       "\n",
       "    .dataframe thead th {\n",
       "        text-align: right;\n",
       "    }\n",
       "</style>\n",
       "<table border=\"1\" class=\"dataframe\">\n",
       "  <thead>\n",
       "    <tr style=\"text-align: right;\">\n",
       "      <th></th>\n",
       "      <th>industry</th>\n",
       "      <th>changepoint_prior_scale</th>\n",
       "      <th>changepoint_range</th>\n",
       "      <th>fourier_order</th>\n",
       "      <th>period</th>\n",
       "      <th>mean</th>\n",
       "      <th>best</th>\n",
       "    </tr>\n",
       "  </thead>\n",
       "  <tbody>\n",
       "    <tr>\n",
       "      <th>0</th>\n",
       "      <td>게임엔터테인먼트</td>\n",
       "      <td>0.072312</td>\n",
       "      <td>0.786430</td>\n",
       "      <td>5</td>\n",
       "      <td>0.445116</td>\n",
       "      <td>7.637804</td>\n",
       "      <td>1</td>\n",
       "    </tr>\n",
       "    <tr>\n",
       "      <th>1</th>\n",
       "      <td>게임엔터테인먼트</td>\n",
       "      <td>0.056047</td>\n",
       "      <td>0.573277</td>\n",
       "      <td>7</td>\n",
       "      <td>0.597539</td>\n",
       "      <td>7.815130</td>\n",
       "      <td>0</td>\n",
       "    </tr>\n",
       "    <tr>\n",
       "      <th>2</th>\n",
       "      <td>게임엔터테인먼트</td>\n",
       "      <td>0.073905</td>\n",
       "      <td>0.852402</td>\n",
       "      <td>9</td>\n",
       "      <td>0.439977</td>\n",
       "      <td>8.406448</td>\n",
       "      <td>0</td>\n",
       "    </tr>\n",
       "    <tr>\n",
       "      <th>3</th>\n",
       "      <td>게임엔터테인먼트</td>\n",
       "      <td>0.054301</td>\n",
       "      <td>0.794078</td>\n",
       "      <td>10</td>\n",
       "      <td>0.489959</td>\n",
       "      <td>8.458214</td>\n",
       "      <td>0</td>\n",
       "    </tr>\n",
       "    <tr>\n",
       "      <th>4</th>\n",
       "      <td>게임엔터테인먼트</td>\n",
       "      <td>0.050077</td>\n",
       "      <td>0.881100</td>\n",
       "      <td>5</td>\n",
       "      <td>0.861768</td>\n",
       "      <td>8.554347</td>\n",
       "      <td>0</td>\n",
       "    </tr>\n",
       "    <tr>\n",
       "      <th>...</th>\n",
       "      <td>...</td>\n",
       "      <td>...</td>\n",
       "      <td>...</td>\n",
       "      <td>...</td>\n",
       "      <td>...</td>\n",
       "      <td>...</td>\n",
       "      <td>...</td>\n",
       "    </tr>\n",
       "    <tr>\n",
       "      <th>475</th>\n",
       "      <td>화학</td>\n",
       "      <td>0.033458</td>\n",
       "      <td>0.753710</td>\n",
       "      <td>9</td>\n",
       "      <td>0.687511</td>\n",
       "      <td>16.549260</td>\n",
       "      <td>0</td>\n",
       "    </tr>\n",
       "    <tr>\n",
       "      <th>476</th>\n",
       "      <td>화학</td>\n",
       "      <td>0.084436</td>\n",
       "      <td>0.795705</td>\n",
       "      <td>5</td>\n",
       "      <td>0.497540</td>\n",
       "      <td>17.814547</td>\n",
       "      <td>0</td>\n",
       "    </tr>\n",
       "    <tr>\n",
       "      <th>477</th>\n",
       "      <td>화학</td>\n",
       "      <td>0.031859</td>\n",
       "      <td>0.803351</td>\n",
       "      <td>8</td>\n",
       "      <td>0.913982</td>\n",
       "      <td>18.503700</td>\n",
       "      <td>0</td>\n",
       "    </tr>\n",
       "    <tr>\n",
       "      <th>478</th>\n",
       "      <td>화학</td>\n",
       "      <td>0.030842</td>\n",
       "      <td>0.836937</td>\n",
       "      <td>5</td>\n",
       "      <td>0.744694</td>\n",
       "      <td>19.573193</td>\n",
       "      <td>0</td>\n",
       "    </tr>\n",
       "    <tr>\n",
       "      <th>479</th>\n",
       "      <td>화학</td>\n",
       "      <td>0.046164</td>\n",
       "      <td>0.509871</td>\n",
       "      <td>10</td>\n",
       "      <td>0.769451</td>\n",
       "      <td>22.272137</td>\n",
       "      <td>0</td>\n",
       "    </tr>\n",
       "  </tbody>\n",
       "</table>\n",
       "<p>480 rows × 7 columns</p>\n",
       "</div>"
      ],
      "text/plain": [
       "     industry  changepoint_prior_scale  changepoint_range  fourier_order  \\\n",
       "0    게임엔터테인먼트                 0.072312           0.786430              5   \n",
       "1    게임엔터테인먼트                 0.056047           0.573277              7   \n",
       "2    게임엔터테인먼트                 0.073905           0.852402              9   \n",
       "3    게임엔터테인먼트                 0.054301           0.794078             10   \n",
       "4    게임엔터테인먼트                 0.050077           0.881100              5   \n",
       "..        ...                      ...                ...            ...   \n",
       "475        화학                 0.033458           0.753710              9   \n",
       "476        화학                 0.084436           0.795705              5   \n",
       "477        화학                 0.031859           0.803351              8   \n",
       "478        화학                 0.030842           0.836937              5   \n",
       "479        화학                 0.046164           0.509871             10   \n",
       "\n",
       "       period       mean  best  \n",
       "0    0.445116   7.637804     1  \n",
       "1    0.597539   7.815130     0  \n",
       "2    0.439977   8.406448     0  \n",
       "3    0.489959   8.458214     0  \n",
       "4    0.861768   8.554347     0  \n",
       "..        ...        ...   ...  \n",
       "475  0.687511  16.549260     0  \n",
       "476  0.497540  17.814547     0  \n",
       "477  0.913982  18.503700     0  \n",
       "478  0.744694  19.573193     0  \n",
       "479  0.769451  22.272137     0  \n",
       "\n",
       "[480 rows x 7 columns]"
      ]
     },
     "execution_count": 111,
     "metadata": {},
     "output_type": "execute_result"
    }
   ],
   "source": [
    "param_pivot"
   ]
  },
  {
   "cell_type": "markdown",
   "id": "869ac086",
   "metadata": {},
   "source": [
    "## Test"
   ]
  },
  {
   "cell_type": "code",
   "execution_count": 112,
   "id": "311a8c3a",
   "metadata": {
    "ExecuteTime": {
     "end_time": "2021-09-12T12:26:39.276345Z",
     "start_time": "2021-09-12T12:11:03.054243Z"
    }
   },
   "outputs": [
    {
     "name": "stderr",
     "output_type": "stream",
     "text": [
      "376it [15:36,  2.49s/it]\n"
     ]
    }
   ],
   "source": [
    "submission = test(stock_list, param_pivot, industry_lst)"
   ]
  },
  {
   "cell_type": "code",
   "execution_count": 113,
   "id": "242ff355",
   "metadata": {
    "ExecuteTime": {
     "end_time": "2021-09-12T12:27:47.347460Z",
     "start_time": "2021-09-12T12:27:47.319394Z"
    }
   },
   "outputs": [],
   "source": [
    "submission.to_csv('./submit/submission_{}.csv'.format(dt.now().strftime('%m%d_%H%M')), index=False)"
   ]
  }
 ],
 "metadata": {
  "kernelspec": {
   "display_name": "Python 3 (ipykernel)",
   "language": "python",
   "name": "python3"
  },
  "language_info": {
   "codemirror_mode": {
    "name": "ipython",
    "version": 3
   },
   "file_extension": ".py",
   "mimetype": "text/x-python",
   "name": "python",
   "nbconvert_exporter": "python",
   "pygments_lexer": "ipython3",
   "version": "3.7.11"
  },
  "toc": {
   "base_numbering": 1,
   "nav_menu": {},
   "number_sections": false,
   "sideBar": true,
   "skip_h1_title": false,
   "title_cell": "Table of Contents",
   "title_sidebar": "Contents",
   "toc_cell": false,
   "toc_position": {},
   "toc_section_display": true,
   "toc_window_display": true
  }
 },
 "nbformat": 4,
 "nbformat_minor": 5
}
